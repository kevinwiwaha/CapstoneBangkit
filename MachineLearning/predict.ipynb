{
 "metadata": {
  "language_info": {
   "codemirror_mode": {
    "name": "ipython",
    "version": 3
   },
   "file_extension": ".py",
   "mimetype": "text/x-python",
   "name": "python",
   "nbconvert_exporter": "python",
   "pygments_lexer": "ipython3",
   "version": "3.9.0"
  },
  "orig_nbformat": 2,
  "kernelspec": {
   "name": "python390jvsc74a57bd0967ec7614685f047dcaebd90cf10c269f190efa5917dcb1f45c56e6a15c74492",
   "display_name": "Python 3.9.0 64-bit"
  }
 },
 "nbformat": 4,
 "nbformat_minor": 2,
 "cells": [
  {
   "cell_type": "code",
   "execution_count": 23,
   "metadata": {},
   "outputs": [
    {
     "output_type": "stream",
     "name": "stdout",
     "text": [
      "[[[165. 151. 138.]\n  [167. 153. 140.]\n  [169. 155. 142.]\n  ...\n  [255. 255. 255.]\n  [255. 255. 255.]\n  [255. 255. 255.]]\n\n [[167. 153. 140.]\n  [169. 155. 142.]\n  [171. 157. 144.]\n  ...\n  [255. 255. 255.]\n  [255. 255. 255.]\n  [255. 255. 255.]]\n\n [[170. 156. 143.]\n  [172. 158. 145.]\n  [174. 160. 147.]\n  ...\n  [255. 255. 255.]\n  [255. 255. 255.]\n  [255. 255. 255.]]\n\n ...\n\n [[181. 177. 174.]\n  [182. 178. 175.]\n  [180. 176. 173.]\n  ...\n  [225. 224. 222.]\n  [226. 225. 223.]\n  [226. 225. 223.]]\n\n [[181. 177. 174.]\n  [182. 178. 175.]\n  [180. 176. 173.]\n  ...\n  [225. 224. 222.]\n  [226. 225. 223.]\n  [227. 226. 224.]]\n\n [[181. 177. 174.]\n  [183. 179. 176.]\n  [182. 178. 175.]\n  ...\n  [225. 224. 222.]\n  [225. 224. 222.]\n  [227. 226. 224.]]]\nTest DAta:\n"
     ]
    },
    {
     "output_type": "error",
     "ename": "AttributeError",
     "evalue": "module 'numpy' has no attribute 'array3d'",
     "traceback": [
      "\u001b[1;31m---------------------------------------------------------------------------\u001b[0m",
      "\u001b[1;31mAttributeError\u001b[0m                            Traceback (most recent call last)",
      "\u001b[1;32m<ipython-input-23-c814f02e40b8>\u001b[0m in \u001b[0;36m<module>\u001b[1;34m\u001b[0m\n\u001b[0;32m     15\u001b[0m \u001b[1;33m\u001b[0m\u001b[0m\n\u001b[0;32m     16\u001b[0m \u001b[0mprint\u001b[0m\u001b[1;33m(\u001b[0m\u001b[1;34m\"Test DAta:\"\u001b[0m\u001b[1;33m)\u001b[0m\u001b[1;33m\u001b[0m\u001b[1;33m\u001b[0m\u001b[0m\n\u001b[1;32m---> 17\u001b[1;33m \u001b[0mprint\u001b[0m\u001b[1;33m(\u001b[0m\u001b[1;34m'{\"instances\": [\\n'\u001b[0m\u001b[1;33m,\u001b[0m\u001b[0mnp\u001b[0m\u001b[1;33m.\u001b[0m\u001b[0marray3d\u001b[0m\u001b[1;33m(\u001b[0m\u001b[0mimages\u001b[0m\u001b[1;33m)\u001b[0m\u001b[1;33m,\u001b[0m\u001b[1;34m'\\n]}'\u001b[0m\u001b[1;33m)\u001b[0m\u001b[1;33m\u001b[0m\u001b[1;33m\u001b[0m\u001b[0m\n\u001b[0m\u001b[0;32m     18\u001b[0m \u001b[1;31m# print(\"Expected Result:\",model.predict(x_test[:1]))\u001b[0m\u001b[1;33m\u001b[0m\u001b[1;33m\u001b[0m\u001b[1;33m\u001b[0m\u001b[0m\n\u001b[0;32m     19\u001b[0m \u001b[1;31m# classes = model.predict(images, batch_size=50)\u001b[0m\u001b[1;33m\u001b[0m\u001b[1;33m\u001b[0m\u001b[1;33m\u001b[0m\u001b[0m\n",
      "\u001b[1;32m~\\AppData\\Local\\Programs\\Python\\Python39\\lib\\site-packages\\numpy\\__init__.py\u001b[0m in \u001b[0;36m__getattr__\u001b[1;34m(attr)\u001b[0m\n\u001b[0;32m    212\u001b[0m                 \u001b[1;32mreturn\u001b[0m \u001b[0mTester\u001b[0m\u001b[1;33m\u001b[0m\u001b[1;33m\u001b[0m\u001b[0m\n\u001b[0;32m    213\u001b[0m             \u001b[1;32melse\u001b[0m\u001b[1;33m:\u001b[0m\u001b[1;33m\u001b[0m\u001b[1;33m\u001b[0m\u001b[0m\n\u001b[1;32m--> 214\u001b[1;33m                 raise AttributeError(\"module {!r} has no attribute \"\n\u001b[0m\u001b[0;32m    215\u001b[0m                                      \"{!r}\".format(__name__, attr))\n\u001b[0;32m    216\u001b[0m \u001b[1;33m\u001b[0m\u001b[0m\n",
      "\u001b[1;31mAttributeError\u001b[0m: module 'numpy' has no attribute 'array3d'"
     ]
    }
   ],
   "source": [
    "import tensorflow as tf\r\n",
    "from keras.preprocessing import image\r\n",
    "import matplotlib.pyplot as plt\r\n",
    "import numpy as np\r\n",
    "model = tf.keras.models.load_model('./model/model-test.h5')\r\n",
    "# model.summary()\r\n",
    "\r\n",
    "path = './src/images/kaleng.jpg' \r\n",
    "img = image.load_img(path, target_size=(224, 224))\r\n",
    "x = image.img_to_array(img)\r\n",
    "plt.imshow(x/255.)\r\n",
    "x = np.expand_dims(x, axis=0)\r\n",
    "images = np.vstack([x])\r\n",
    "print(np.array(images[0]))\r\n",
    "\r\n",
    "print(\"Test DAta:\")\r\n",
    "# print('{\"instances\": [\\n',np.array3d(images),'\\n]}')\r\n",
    "# print(\"Expected Result:\",model.predict(x_test[:1]))\r\n",
    "# classes = model.predict(images, batch_size=50)\r\n",
    "# print(classes[0][0])\r\n",
    "# if(classes[0][0] < 0.5):\r\n",
    "#     print('Ini sampah organik')\r\n",
    "# else:\r\n",
    "#     print('Ini sampah anorganik')"
   ]
  },
  {
   "cell_type": "code",
   "execution_count": null,
   "metadata": {},
   "outputs": [],
   "source": [
    "{\"instances\":[\n",
    "                [\n",
    "                    [\n",
    "                        [165. 151. 138.],\n",
    "                        [167. 153. 140.],\n",
    "                        [169. 155. 142.],\n",
    "                \n",
    "                        [255. 255. 255.],\n",
    "                        [255. 255. 255.],\n",
    "                        [255. 255. 255.],\n",
    "                    ],\n",
    "\n",
    "                    [\n",
    "                        [167. 153. 140.],\n",
    "                        [169. 155. 142.],\n",
    "                        [171. 157. 144.],\n",
    "                \n",
    "                        [255. 255. 255.],\n",
    "                        [255. 255. 255.],\n",
    "                        [255. 255. 255.],\n",
    "                    ],\n",
    "\n",
    "                    [\n",
    "                        [170. 156. 143.],\n",
    "                        [172. 158. 145.],\n",
    "                        [174. 160. 147.],\n",
    "                \n",
    "                        [255. 255. 255.],\n",
    "                        [255. 255. 255.],\n",
    "                        [255. 255. 255.],\n",
    "                    ],\n",
    "\n",
    "                \n",
    "\n",
    "                    [\n",
    "                        [181. 177. 174.],\n",
    "                        [182. 178. 175.],\n",
    "                        [180. 176. 173.],\n",
    "                        \n",
    "                        [225. 224. 222.],\n",
    "                        [226. 225. 223.],\n",
    "                        [226. 225. 223.],\n",
    "                    ],\n",
    "\n",
    "                    [  \n",
    "                        [181. 177. 174.],\n",
    "                        [182. 178. 175.],\n",
    "                        [180. 176. 173.],\n",
    "                        \n",
    "                        [225. 224. 222.],\n",
    "                        [226. 225. 223.],\n",
    "                        [227. 226. 224.],\n",
    "                    ],\n",
    "\n",
    "                    [\n",
    "                        [181. 177. 174.],\n",
    "                        [183. 179. 176.],\n",
    "                        [182. 178. 175.],\n",
    "                \n",
    "                        [225. 224. 222.],\n",
    "                        [225. 224. 222.],\n",
    "                        [227. 226. 224.],\n",
    "                    ]\n",
    "                ]\n",
    "            ]\n",
    "\n",
    "}"
   ]
  }
 ]
}